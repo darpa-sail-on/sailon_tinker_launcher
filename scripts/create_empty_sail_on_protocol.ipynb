{
 "cells": [
  {
   "cell_type": "code",
   "execution_count": 1,
   "id": "drawn-boating",
   "metadata": {},
   "outputs": [],
   "source": [
    "%load_ext autoreload\n",
    "%autoreload 2\n",
    "\n",
    "import logging\n",
    "logger = logging.getLogger()\n",
    "logger.setLevel(logging.DEBUG)"
   ]
  },
  {
   "cell_type": "markdown",
   "id": "convenient-wesley",
   "metadata": {},
   "source": [
    "### Initalize the launcher with hydra to load the config"
   ]
  },
  {
   "cell_type": "code",
   "execution_count": 2,
   "id": "solid-seller",
   "metadata": {},
   "outputs": [
    {
     "name": "stdout",
     "output_type": "stream",
     "text": [
      "{'problem': {'protocol': 'ond', 'workdir': '/home/chris/code/sailon_tinker_launcher/workdir', 'harness': 'local', 'domain': 'image_classification', 'test_ids': ['OND.1.1.1234'], 'novelty_detector_class': 'MockDetector'}}\n"
     ]
    }
   ],
   "source": [
    "from hydra.experimental import initialize, compose\n",
    "from omegaconf import OmegaConf\n",
    "with initialize(config_path=\"../configs\"):\n",
    "    cfg = compose(config_name=\"h_config\", overrides=['problem=mock_ond_config'])\n",
    "    print(cfg)\n",
    "    "
   ]
  },
  {
   "cell_type": "markdown",
   "id": "governmental-eagle",
   "metadata": {},
   "source": [
    "### Create Python Class to Run for the experiment, Use mock server for this"
   ]
  },
  {
   "cell_type": "code",
   "execution_count": 3,
   "id": "tough-membership",
   "metadata": {},
   "outputs": [],
   "source": [
    "from sailon_tinker_launcher.deprecated_tinker.basealgorithm import BaseAlgorithm\n",
    "from evm_based_novelty_detector.condda_12 import condda_without_redlight\n",
    "from typing import Dict, Any, Tuple\n",
    "\n",
    "\n",
    "class MockDetector(BaseAlgorithm):\n",
    "    \"\"\"Mock Detector for testing image classification protocols.\"\"\"\n",
    "\n",
    "    def __init__(self, toolset: Dict) -> None:\n",
    "        \"\"\"\n",
    "        Detector constructor.\n",
    "\n",
    "        Args:\n",
    "            toolset (dict): Dictionary containing parameters for the constructor\n",
    "        \"\"\"\n",
    "        BaseAlgorithm.__init__(self, toolset)\n",
    "        self.step_dict: Dict[str, Callable] = {\n",
    "            \"Initialize\": self._initialize,\n",
    "            \"FeatureExtraction\": self._feature_extraction,\n",
    "            \"WorldDetection\": self._world_detection,\n",
    "            \"NoveltyClassification\": self._novelty_classification,\n",
    "            \"NoveltyAdaption\": self._novelty_adaption,\n",
    "            \"NoveltyCharacterization\": self._novelty_characterization,\n",
    "        }\n",
    "\n",
    "    def execute(self, toolset: Dict, step_descriptor: str) -> Any:\n",
    "        \"\"\"\n",
    "        Execute method used by the protocol to run different steps associated with the algorithm.\n",
    "\n",
    "        Args:\n",
    "            toolset (dict): Dictionary containing parameters for different steps\n",
    "            step_descriptor (str): Name of the step\n",
    "        \"\"\"\n",
    "        log.info(f\"Executing {step_descriptor}\")\n",
    "        return self.step_dict[step_descriptor](toolset)\n",
    "\n",
    "    def _initialize(self, toolset: Dict) -> None:\n",
    "        \"\"\"\n",
    "        Algorithm Initialization.\n",
    "\n",
    "        Args:\n",
    "            toolset (dict): Dictionary containing parameters for different steps\n",
    "\n",
    "        Return:\n",
    "            None\n",
    "        \"\"\"\n",
    "        pass\n",
    "\n",
    "    def _feature_extraction(\n",
    "        self, toolset: Dict\n",
    "    ) -> Tuple[Dict[str, Any], Dict[str, Any]]:\n",
    "        \"\"\"\n",
    "        Feature extraction step for the algorithm.\n",
    "\n",
    "        Args:\n",
    "            toolset (dict): Dictionary containing parameters for different steps\n",
    "\n",
    "        Return:\n",
    "            Tuple of dictionary\n",
    "        \"\"\"\n",
    "        self.dataset = toolset[\"dataset\"]\n",
    "        return {}, {}\n",
    "\n",
    "    def _world_detection(self, toolset: str) -> str:\n",
    "        \"\"\"\n",
    "        Detect change in world ( Novelty has been introduced ).\n",
    "\n",
    "        Args:\n",
    "            toolset (dict): Dictionary containing parameters for different steps\n",
    "\n",
    "        Return:\n",
    "            path to csv file containing the results for change in world\n",
    "        \"\"\"\n",
    "        return self.dataset\n",
    "\n",
    "    def _novelty_classification(self, toolset: str) -> str:\n",
    "        \"\"\"\n",
    "        Classify data provided in known classes and unknown class.\n",
    "\n",
    "        Args:\n",
    "            toolset (dict): Dictionary containing parameters for different steps\n",
    "\n",
    "        Return:\n",
    "            path to csv file containing the results for novelty classification step\n",
    "        \"\"\"\n",
    "        return self.dataset\n",
    "\n",
    "    def _novelty_adaption(self, toolset: str) -> None:\n",
    "        \"\"\"\n",
    "        Update models based on novelty classification and characterization.\n",
    "\n",
    "        Args:\n",
    "            toolset (dict): Dictionary containing parameters for different steps\n",
    "\n",
    "        Return:\n",
    "            None\n",
    "        \"\"\"\n",
    "        pass\n",
    "\n",
    "    def _novelty_characterization(self, toolset: str) -> str:\n",
    "        \"\"\"\n",
    "        Characterize novelty by clustering different novel samples.\n",
    "\n",
    "        Args:\n",
    "            toolset (dict): Dictionary containing parameters for different steps\n",
    "\n",
    "        Return:\n",
    "            path to csv file containing the results for novelty characterization step\n",
    "        \"\"\"\n",
    "        return self.dataset"
   ]
  },
  {
   "cell_type": "code",
   "execution_count": 8,
   "id": "educational-siemens",
   "metadata": {},
   "outputs": [],
   "source": [
    "from sailon_tinker_launcher.main import LaunchSailonProtocol\n",
    "\n",
    "launch_protocol = LaunchSailonProtocol()"
   ]
  },
  {
   "cell_type": "code",
   "execution_count": 12,
   "id": "connected-diagram",
   "metadata": {},
   "outputs": [
    {
     "ename": "ServerError",
     "evalue": "('test_id_invalid', 'Test Id OND.1.1.1234 could not be matched to a specific file', ['  File \"/home/chris/anaconda3/envs/sailon/lib/python3.7/runpy.py\", line 193, in _run_module_as_main\\n    \"__main__\", mod_spec)\\n', '  File \"/home/chris/anaconda3/envs/sailon/lib/python3.7/runpy.py\", line 85, in _run_code\\n    exec(code, run_globals)\\n', '  File \"/home/chris/anaconda3/envs/sailon/lib/python3.7/site-packages/ipykernel_launcher.py\", line 16, in <module>\\n    app.launch_new_instance()\\n', '  File \"/home/chris/anaconda3/envs/sailon/lib/python3.7/site-packages/traitlets/config/application.py\", line 845, in launch_instance\\n    app.start()\\n', '  File \"/home/chris/anaconda3/envs/sailon/lib/python3.7/site-packages/ipykernel/kernelapp.py\", line 612, in start\\n    self.io_loop.start()\\n', '  File \"/home/chris/anaconda3/envs/sailon/lib/python3.7/site-packages/tornado/platform/asyncio.py\", line 149, in start\\n    self.asyncio_loop.run_forever()\\n', '  File \"/home/chris/anaconda3/envs/sailon/lib/python3.7/asyncio/base_events.py\", line 541, in run_forever\\n    self._run_once()\\n', '  File \"/home/chris/anaconda3/envs/sailon/lib/python3.7/asyncio/base_events.py\", line 1786, in _run_once\\n    handle._run()\\n', '  File \"/home/chris/anaconda3/envs/sailon/lib/python3.7/asyncio/events.py\", line 88, in _run\\n    self._context.run(self._callback, *self._args)\\n', '  File \"/home/chris/anaconda3/envs/sailon/lib/python3.7/site-packages/tornado/ioloop.py\", line 690, in <lambda>\\n    lambda f: self._run_callback(functools.partial(callback, future))\\n', '  File \"/home/chris/anaconda3/envs/sailon/lib/python3.7/site-packages/tornado/ioloop.py\", line 743, in _run_callback\\n    ret = callback()\\n', '  File \"/home/chris/anaconda3/envs/sailon/lib/python3.7/site-packages/tornado/gen.py\", line 787, in inner\\n    self.run()\\n', '  File \"/home/chris/anaconda3/envs/sailon/lib/python3.7/site-packages/tornado/gen.py\", line 748, in run\\n    yielded = self.gen.send(value)\\n', '  File \"/home/chris/anaconda3/envs/sailon/lib/python3.7/site-packages/ipykernel/kernelbase.py\", line 365, in process_one\\n    yield gen.maybe_future(dispatch(*args))\\n', '  File \"/home/chris/anaconda3/envs/sailon/lib/python3.7/site-packages/tornado/gen.py\", line 209, in wrapper\\n    yielded = next(result)\\n', '  File \"/home/chris/anaconda3/envs/sailon/lib/python3.7/site-packages/ipykernel/kernelbase.py\", line 268, in dispatch_shell\\n    yield gen.maybe_future(handler(stream, idents, msg))\\n', '  File \"/home/chris/anaconda3/envs/sailon/lib/python3.7/site-packages/tornado/gen.py\", line 209, in wrapper\\n    yielded = next(result)\\n', '  File \"/home/chris/anaconda3/envs/sailon/lib/python3.7/site-packages/ipykernel/kernelbase.py\", line 545, in execute_request\\n    user_expressions, allow_stdin,\\n', '  File \"/home/chris/anaconda3/envs/sailon/lib/python3.7/site-packages/tornado/gen.py\", line 209, in wrapper\\n    yielded = next(result)\\n', '  File \"/home/chris/anaconda3/envs/sailon/lib/python3.7/site-packages/ipykernel/ipkernel.py\", line 306, in do_execute\\n    res = shell.run_cell(code, store_history=store_history, silent=silent)\\n', '  File \"/home/chris/anaconda3/envs/sailon/lib/python3.7/site-packages/ipykernel/zmqshell.py\", line 536, in run_cell\\n    return super(ZMQInteractiveShell, self).run_cell(*args, **kwargs)\\n', '  File \"/home/chris/anaconda3/envs/sailon/lib/python3.7/site-packages/IPython/core/interactiveshell.py\", line 2878, in run_cell\\n    raw_cell, store_history, silent, shell_futures)\\n', '  File \"/home/chris/anaconda3/envs/sailon/lib/python3.7/site-packages/IPython/core/interactiveshell.py\", line 2923, in _run_cell\\n    return runner(coro)\\n', '  File \"/home/chris/anaconda3/envs/sailon/lib/python3.7/site-packages/IPython/core/async_helpers.py\", line 68, in _pseudo_sync_runner\\n    coro.send(None)\\n', '  File \"/home/chris/anaconda3/envs/sailon/lib/python3.7/site-packages/IPython/core/interactiveshell.py\", line 3147, in run_cell_async\\n    interactivity=interactivity, compiler=compiler, result=result)\\n', '  File \"/home/chris/anaconda3/envs/sailon/lib/python3.7/site-packages/IPython/core/interactiveshell.py\", line 3338, in run_ast_nodes\\n    if (await self.run_code(code, result,  async_=asy)):\\n', '  File \"/home/chris/anaconda3/envs/sailon/lib/python3.7/site-packages/IPython/core/interactiveshell.py\", line 3418, in run_code\\n    exec(code_obj, self.user_global_ns, self.user_ns)\\n', '  File \"<ipython-input-12-4e3c24bec725>\", line 1, in <module>\\n    launch_protocol.run_protocol(OmegaConf.to_container(cfg[\\'problem\\']))\\n', '  File \"/home/chris/code/sailon_tinker_launcher/sailon_tinker_launcher/main.py\", line 184, in run_protocol\\n    run_protocol.run_protocol()\\n', '  File \"/home/chris/code/sail-on-client/sail_on_client/protocol/ond_protocol.py\", line 68, in run_protocol\\n    self.config[\"hints\"],\\n', '  File \"/home/chris/code/sail-on-client/sail_on_client/protocol/localinterface.py\", line 79, in session_request\\n    test_ids, protocol, domain, novelty_detector_version, hints\\n', '  File \"/home/chris/code/sail-on-api/sail_on/api/file_provider.py\", line 408, in new_session\\n    traceback.format_stack(),\\n'])",
     "output_type": "error",
     "traceback": [
      "\u001b[0;31m---------------------------------------------------------------------------\u001b[0m",
      "\u001b[0;31mServerError\u001b[0m                               Traceback (most recent call last)",
      "\u001b[0;32m<ipython-input-12-4e3c24bec725>\u001b[0m in \u001b[0;36m<module>\u001b[0;34m\u001b[0m\n\u001b[0;32m----> 1\u001b[0;31m \u001b[0mlaunch_protocol\u001b[0m\u001b[0;34m.\u001b[0m\u001b[0mrun_protocol\u001b[0m\u001b[0;34m(\u001b[0m\u001b[0mOmegaConf\u001b[0m\u001b[0;34m.\u001b[0m\u001b[0mto_container\u001b[0m\u001b[0;34m(\u001b[0m\u001b[0mcfg\u001b[0m\u001b[0;34m[\u001b[0m\u001b[0;34m'problem'\u001b[0m\u001b[0;34m]\u001b[0m\u001b[0;34m)\u001b[0m\u001b[0;34m)\u001b[0m\u001b[0;34m\u001b[0m\u001b[0;34m\u001b[0m\u001b[0m\n\u001b[0m\u001b[1;32m      2\u001b[0m \u001b[0;34m\u001b[0m\u001b[0m\n",
      "\u001b[0;32m~/code/sailon_tinker_launcher/sailon_tinker_launcher/main.py\u001b[0m in \u001b[0;36mrun_protocol\u001b[0;34m(self, config)\u001b[0m\n\u001b[1;32m    182\u001b[0m \u001b[0;34m\u001b[0m\u001b[0m\n\u001b[1;32m    183\u001b[0m         \u001b[0;31m# Run the protocol\u001b[0m\u001b[0;34m\u001b[0m\u001b[0;34m\u001b[0m\u001b[0;34m\u001b[0m\u001b[0m\n\u001b[0;32m--> 184\u001b[0;31m         \u001b[0mrun_protocol\u001b[0m\u001b[0;34m.\u001b[0m\u001b[0mrun_protocol\u001b[0m\u001b[0;34m(\u001b[0m\u001b[0;34m)\u001b[0m\u001b[0;34m\u001b[0m\u001b[0;34m\u001b[0m\u001b[0m\n\u001b[0m\u001b[1;32m    185\u001b[0m         \u001b[0mlog\u001b[0m\u001b[0;34m.\u001b[0m\u001b[0minfo\u001b[0m\u001b[0;34m(\u001b[0m\u001b[0;34m'Protocol Finished'\u001b[0m\u001b[0;34m)\u001b[0m\u001b[0;34m\u001b[0m\u001b[0;34m\u001b[0m\u001b[0m\n\u001b[1;32m    186\u001b[0m \u001b[0;34m\u001b[0m\u001b[0m\n",
      "\u001b[0;32m~/code/sail-on-client/sail_on_client/protocol/ond_protocol.py\u001b[0m in \u001b[0;36mrun_protocol\u001b[0;34m(self)\u001b[0m\n\u001b[1;32m     66\u001b[0m             \u001b[0mself\u001b[0m\u001b[0;34m.\u001b[0m\u001b[0mconfig\u001b[0m\u001b[0;34m[\u001b[0m\u001b[0;34m\"domain\"\u001b[0m\u001b[0;34m]\u001b[0m\u001b[0;34m,\u001b[0m\u001b[0;34m\u001b[0m\u001b[0;34m\u001b[0m\u001b[0m\n\u001b[1;32m     67\u001b[0m             \u001b[0;34mf\"{novelty_detector_version}.{novelty_detector_class}\"\u001b[0m\u001b[0;34m,\u001b[0m\u001b[0;34m\u001b[0m\u001b[0;34m\u001b[0m\u001b[0m\n\u001b[0;32m---> 68\u001b[0;31m             \u001b[0mself\u001b[0m\u001b[0;34m.\u001b[0m\u001b[0mconfig\u001b[0m\u001b[0;34m[\u001b[0m\u001b[0;34m\"hints\"\u001b[0m\u001b[0;34m]\u001b[0m\u001b[0;34m,\u001b[0m\u001b[0;34m\u001b[0m\u001b[0;34m\u001b[0m\u001b[0m\n\u001b[0m\u001b[1;32m     69\u001b[0m         )\n\u001b[1;32m     70\u001b[0m         \u001b[0msession_id\u001b[0m \u001b[0;34m=\u001b[0m \u001b[0mself\u001b[0m\u001b[0;34m.\u001b[0m\u001b[0mtoolset\u001b[0m\u001b[0;34m[\u001b[0m\u001b[0;34m\"session_id\"\u001b[0m\u001b[0;34m]\u001b[0m\u001b[0;34m\u001b[0m\u001b[0;34m\u001b[0m\u001b[0m\n",
      "\u001b[0;32m~/code/sail-on-client/sail_on_client/protocol/localinterface.py\u001b[0m in \u001b[0;36msession_request\u001b[0;34m(self, test_ids, protocol, domain, novelty_detector_version, hints)\u001b[0m\n\u001b[1;32m     77\u001b[0m         \"\"\"\n\u001b[1;32m     78\u001b[0m         return self.file_provider.new_session(\n\u001b[0;32m---> 79\u001b[0;31m             \u001b[0mtest_ids\u001b[0m\u001b[0;34m,\u001b[0m \u001b[0mprotocol\u001b[0m\u001b[0;34m,\u001b[0m \u001b[0mdomain\u001b[0m\u001b[0;34m,\u001b[0m \u001b[0mnovelty_detector_version\u001b[0m\u001b[0;34m,\u001b[0m \u001b[0mhints\u001b[0m\u001b[0;34m\u001b[0m\u001b[0;34m\u001b[0m\u001b[0m\n\u001b[0m\u001b[1;32m     80\u001b[0m         )\n\u001b[1;32m     81\u001b[0m \u001b[0;34m\u001b[0m\u001b[0m\n",
      "\u001b[0;32m~/code/sail-on-api/sail_on/api/file_provider.py\u001b[0m in \u001b[0;36mnew_session\u001b[0;34m(self, test_ids, protocol, domain, novelty_detector_version, hints)\u001b[0m\n\u001b[1;32m    406\u001b[0m                     \u001b[0;34m\"test_id_invalid\"\u001b[0m\u001b[0;34m,\u001b[0m\u001b[0;34m\u001b[0m\u001b[0;34m\u001b[0m\u001b[0m\n\u001b[1;32m    407\u001b[0m                     \u001b[0;34mf\"Test Id {test_id} could not be matched to a specific file\"\u001b[0m\u001b[0;34m,\u001b[0m\u001b[0;34m\u001b[0m\u001b[0;34m\u001b[0m\u001b[0m\n\u001b[0;32m--> 408\u001b[0;31m                     \u001b[0mtraceback\u001b[0m\u001b[0;34m.\u001b[0m\u001b[0mformat_stack\u001b[0m\u001b[0;34m(\u001b[0m\u001b[0;34m)\u001b[0m\u001b[0;34m,\u001b[0m\u001b[0;34m\u001b[0m\u001b[0;34m\u001b[0m\u001b[0m\n\u001b[0m\u001b[1;32m    409\u001b[0m                 )\n\u001b[1;32m    410\u001b[0m \u001b[0;34m\u001b[0m\u001b[0m\n",
      "\u001b[0;31mServerError\u001b[0m: ('test_id_invalid', 'Test Id OND.1.1.1234 could not be matched to a specific file', ['  File \"/home/chris/anaconda3/envs/sailon/lib/python3.7/runpy.py\", line 193, in _run_module_as_main\\n    \"__main__\", mod_spec)\\n', '  File \"/home/chris/anaconda3/envs/sailon/lib/python3.7/runpy.py\", line 85, in _run_code\\n    exec(code, run_globals)\\n', '  File \"/home/chris/anaconda3/envs/sailon/lib/python3.7/site-packages/ipykernel_launcher.py\", line 16, in <module>\\n    app.launch_new_instance()\\n', '  File \"/home/chris/anaconda3/envs/sailon/lib/python3.7/site-packages/traitlets/config/application.py\", line 845, in launch_instance\\n    app.start()\\n', '  File \"/home/chris/anaconda3/envs/sailon/lib/python3.7/site-packages/ipykernel/kernelapp.py\", line 612, in start\\n    self.io_loop.start()\\n', '  File \"/home/chris/anaconda3/envs/sailon/lib/python3.7/site-packages/tornado/platform/asyncio.py\", line 149, in start\\n    self.asyncio_loop.run_forever()\\n', '  File \"/home/chris/anaconda3/envs/sailon/lib/python3.7/asyncio/base_events.py\", line 541, in run_forever\\n    self._run_once()\\n', '  File \"/home/chris/anaconda3/envs/sailon/lib/python3.7/asyncio/base_events.py\", line 1786, in _run_once\\n    handle._run()\\n', '  File \"/home/chris/anaconda3/envs/sailon/lib/python3.7/asyncio/events.py\", line 88, in _run\\n    self._context.run(self._callback, *self._args)\\n', '  File \"/home/chris/anaconda3/envs/sailon/lib/python3.7/site-packages/tornado/ioloop.py\", line 690, in <lambda>\\n    lambda f: self._run_callback(functools.partial(callback, future))\\n', '  File \"/home/chris/anaconda3/envs/sailon/lib/python3.7/site-packages/tornado/ioloop.py\", line 743, in _run_callback\\n    ret = callback()\\n', '  File \"/home/chris/anaconda3/envs/sailon/lib/python3.7/site-packages/tornado/gen.py\", line 787, in inner\\n    self.run()\\n', '  File \"/home/chris/anaconda3/envs/sailon/lib/python3.7/site-packages/tornado/gen.py\", line 748, in run\\n    yielded = self.gen.send(value)\\n', '  File \"/home/chris/anaconda3/envs/sailon/lib/python3.7/site-packages/ipykernel/kernelbase.py\", line 365, in process_one\\n    yield gen.maybe_future(dispatch(*args))\\n', '  File \"/home/chris/anaconda3/envs/sailon/lib/python3.7/site-packages/tornado/gen.py\", line 209, in wrapper\\n    yielded = next(result)\\n', '  File \"/home/chris/anaconda3/envs/sailon/lib/python3.7/site-packages/ipykernel/kernelbase.py\", line 268, in dispatch_shell\\n    yield gen.maybe_future(handler(stream, idents, msg))\\n', '  File \"/home/chris/anaconda3/envs/sailon/lib/python3.7/site-packages/tornado/gen.py\", line 209, in wrapper\\n    yielded = next(result)\\n', '  File \"/home/chris/anaconda3/envs/sailon/lib/python3.7/site-packages/ipykernel/kernelbase.py\", line 545, in execute_request\\n    user_expressions, allow_stdin,\\n', '  File \"/home/chris/anaconda3/envs/sailon/lib/python3.7/site-packages/tornado/gen.py\", line 209, in wrapper\\n    yielded = next(result)\\n', '  File \"/home/chris/anaconda3/envs/sailon/lib/python3.7/site-packages/ipykernel/ipkernel.py\", line 306, in do_execute\\n    res = shell.run_cell(code, store_history=store_history, silent=silent)\\n', '  File \"/home/chris/anaconda3/envs/sailon/lib/python3.7/site-packages/ipykernel/zmqshell.py\", line 536, in run_cell\\n    return super(ZMQInteractiveShell, self).run_cell(*args, **kwargs)\\n', '  File \"/home/chris/anaconda3/envs/sailon/lib/python3.7/site-packages/IPython/core/interactiveshell.py\", line 2878, in run_cell\\n    raw_cell, store_history, silent, shell_futures)\\n', '  File \"/home/chris/anaconda3/envs/sailon/lib/python3.7/site-packages/IPython/core/interactiveshell.py\", line 2923, in _run_cell\\n    return runner(coro)\\n', '  File \"/home/chris/anaconda3/envs/sailon/lib/python3.7/site-packages/IPython/core/async_helpers.py\", line 68, in _pseudo_sync_runner\\n    coro.send(None)\\n', '  File \"/home/chris/anaconda3/envs/sailon/lib/python3.7/site-packages/IPython/core/interactiveshell.py\", line 3147, in run_cell_async\\n    interactivity=interactivity, compiler=compiler, result=result)\\n', '  File \"/home/chris/anaconda3/envs/sailon/lib/python3.7/site-packages/IPython/core/interactiveshell.py\", line 3338, in run_ast_nodes\\n    if (await self.run_code(code, result,  async_=asy)):\\n', '  File \"/home/chris/anaconda3/envs/sailon/lib/python3.7/site-packages/IPython/core/interactiveshell.py\", line 3418, in run_code\\n    exec(code_obj, self.user_global_ns, self.user_ns)\\n', '  File \"<ipython-input-12-4e3c24bec725>\", line 1, in <module>\\n    launch_protocol.run_protocol(OmegaConf.to_container(cfg[\\'problem\\']))\\n', '  File \"/home/chris/code/sailon_tinker_launcher/sailon_tinker_launcher/main.py\", line 184, in run_protocol\\n    run_protocol.run_protocol()\\n', '  File \"/home/chris/code/sail-on-client/sail_on_client/protocol/ond_protocol.py\", line 68, in run_protocol\\n    self.config[\"hints\"],\\n', '  File \"/home/chris/code/sail-on-client/sail_on_client/protocol/localinterface.py\", line 79, in session_request\\n    test_ids, protocol, domain, novelty_detector_version, hints\\n', '  File \"/home/chris/code/sail-on-api/sail_on/api/file_provider.py\", line 408, in new_session\\n    traceback.format_stack(),\\n'])"
     ]
    }
   ],
   "source": [
    "launch_protocol.run_protocol(OmegaConf.to_container(cfg['problem']))\n",
    "\n"
   ]
  },
  {
   "cell_type": "code",
   "execution_count": 14,
   "id": "legislative-finger",
   "metadata": {},
   "outputs": [
    {
     "data": {
      "text/plain": [
       "{'protocol': 'ond',\n",
       " 'workdir': '/home/chris/code/sailon_tinker_launcher/workdir',\n",
       " 'harness': 'local',\n",
       " 'domain': 'image_classification',\n",
       " 'test_ids': ['OND.1.1.1234'],\n",
       " 'novelty_detector_class': 'MockDetector'}"
      ]
     },
     "execution_count": 14,
     "metadata": {},
     "output_type": "execute_result"
    }
   ],
   "source": [
    "OmegaConf.to_container(cfg['problem'])"
   ]
  },
  {
   "cell_type": "code",
   "execution_count": 13,
   "id": "primary-sacramento",
   "metadata": {},
   "outputs": [
    {
     "name": "stdout",
     "output_type": "stream",
     "text": [
      "  File \"/home/chris/anaconda3/envs/sailon/lib/python3.7/runpy.py\", line 193, in _run_module_as_main\n",
      "    \"__main__\", mod_spec)\n",
      "   File \"/home/chris/anaconda3/envs/sailon/lib/python3.7/runpy.py\", line 85, in _run_code\n",
      "    exec(code, run_globals)\n",
      "   File \"/home/chris/anaconda3/envs/sailon/lib/python3.7/site-packages/ipykernel_launcher.py\", line 16, in <module>\n",
      "    app.launch_new_instance()\n",
      "   File \"/home/chris/anaconda3/envs/sailon/lib/python3.7/site-packages/traitlets/config/application.py\", line 845, in launch_instance\n",
      "    app.start()\n",
      "   File \"/home/chris/anaconda3/envs/sailon/lib/python3.7/site-packages/ipykernel/kernelapp.py\", line 612, in start\n",
      "    self.io_loop.start()\n",
      "   File \"/home/chris/anaconda3/envs/sailon/lib/python3.7/site-packages/tornado/platform/asyncio.py\", line 149, in start\n",
      "    self.asyncio_loop.run_forever()\n",
      "   File \"/home/chris/anaconda3/envs/sailon/lib/python3.7/asyncio/base_events.py\", line 541, in run_forever\n",
      "    self._run_once()\n",
      "   File \"/home/chris/anaconda3/envs/sailon/lib/python3.7/asyncio/base_events.py\", line 1786, in _run_once\n",
      "    handle._run()\n",
      "   File \"/home/chris/anaconda3/envs/sailon/lib/python3.7/asyncio/events.py\", line 88, in _run\n",
      "    self._context.run(self._callback, *self._args)\n",
      "   File \"/home/chris/anaconda3/envs/sailon/lib/python3.7/site-packages/tornado/ioloop.py\", line 690, in <lambda>\n",
      "    lambda f: self._run_callback(functools.partial(callback, future))\n",
      "   File \"/home/chris/anaconda3/envs/sailon/lib/python3.7/site-packages/tornado/ioloop.py\", line 743, in _run_callback\n",
      "    ret = callback()\n",
      "   File \"/home/chris/anaconda3/envs/sailon/lib/python3.7/site-packages/tornado/gen.py\", line 787, in inner\n",
      "    self.run()\n",
      "   File \"/home/chris/anaconda3/envs/sailon/lib/python3.7/site-packages/tornado/gen.py\", line 748, in run\n",
      "    yielded = self.gen.send(value)\n",
      "   File \"/home/chris/anaconda3/envs/sailon/lib/python3.7/site-packages/ipykernel/kernelbase.py\", line 365, in process_one\n",
      "    yield gen.maybe_future(dispatch(*args))\n",
      "   File \"/home/chris/anaconda3/envs/sailon/lib/python3.7/site-packages/tornado/gen.py\", line 209, in wrapper\n",
      "    yielded = next(result)\n",
      "   File \"/home/chris/anaconda3/envs/sailon/lib/python3.7/site-packages/ipykernel/kernelbase.py\", line 268, in dispatch_shell\n",
      "    yield gen.maybe_future(handler(stream, idents, msg))\n",
      "   File \"/home/chris/anaconda3/envs/sailon/lib/python3.7/site-packages/tornado/gen.py\", line 209, in wrapper\n",
      "    yielded = next(result)\n",
      "   File \"/home/chris/anaconda3/envs/sailon/lib/python3.7/site-packages/ipykernel/kernelbase.py\", line 545, in execute_request\n",
      "    user_expressions, allow_stdin,\n",
      "   File \"/home/chris/anaconda3/envs/sailon/lib/python3.7/site-packages/tornado/gen.py\", line 209, in wrapper\n",
      "    yielded = next(result)\n",
      "   File \"/home/chris/anaconda3/envs/sailon/lib/python3.7/site-packages/ipykernel/ipkernel.py\", line 306, in do_execute\n",
      "    res = shell.run_cell(code, store_history=store_history, silent=silent)\n",
      "   File \"/home/chris/anaconda3/envs/sailon/lib/python3.7/site-packages/ipykernel/zmqshell.py\", line 536, in run_cell\n",
      "    return super(ZMQInteractiveShell, self).run_cell(*args, **kwargs)\n",
      "   File \"/home/chris/anaconda3/envs/sailon/lib/python3.7/site-packages/IPython/core/interactiveshell.py\", line 2878, in run_cell\n",
      "    raw_cell, store_history, silent, shell_futures)\n",
      "   File \"/home/chris/anaconda3/envs/sailon/lib/python3.7/site-packages/IPython/core/interactiveshell.py\", line 2923, in _run_cell\n",
      "    return runner(coro)\n",
      "   File \"/home/chris/anaconda3/envs/sailon/lib/python3.7/site-packages/IPython/core/async_helpers.py\", line 68, in _pseudo_sync_runner\n",
      "    coro.send(None)\n",
      "   File \"/home/chris/anaconda3/envs/sailon/lib/python3.7/site-packages/IPython/core/interactiveshell.py\", line 3147, in run_cell_async\n",
      "    interactivity=interactivity, compiler=compiler, result=result)\n",
      "   File \"/home/chris/anaconda3/envs/sailon/lib/python3.7/site-packages/IPython/core/interactiveshell.py\", line 3338, in run_ast_nodes\n",
      "    if (await self.run_code(code, result,  async_=asy)):\n",
      "   File \"/home/chris/anaconda3/envs/sailon/lib/python3.7/site-packages/IPython/core/interactiveshell.py\", line 3418, in run_code\n",
      "    exec(code_obj, self.user_global_ns, self.user_ns)\n",
      "   File \"<ipython-input-12-4e3c24bec725>\", line 1, in <module>\n",
      "    launch_protocol.run_protocol(OmegaConf.to_container(cfg['problem']))\n",
      "   File \"/home/chris/code/sailon_tinker_launcher/sailon_tinker_launcher/main.py\", line 184, in run_protocol\n",
      "    run_protocol.run_protocol()\n",
      "   File \"/home/chris/code/sail-on-client/sail_on_client/protocol/ond_protocol.py\", line 68, in run_protocol\n",
      "    self.config[\"hints\"],\n",
      "   File \"/home/chris/code/sail-on-client/sail_on_client/protocol/localinterface.py\", line 79, in session_request\n",
      "    test_ids, protocol, domain, novelty_detector_version, hints\n",
      "   File \"/home/chris/code/sail-on-api/sail_on/api/file_provider.py\", line 408, in new_session\n",
      "    traceback.format_stack(),\n",
      "\n"
     ]
    }
   ],
   "source": [
    "print('  File \"/home/chris/anaconda3/envs/sailon/lib/python3.7/runpy.py\", line 193, in _run_module_as_main\\n    \"__main__\", mod_spec)\\n', '  File \"/home/chris/anaconda3/envs/sailon/lib/python3.7/runpy.py\", line 85, in _run_code\\n    exec(code, run_globals)\\n', '  File \"/home/chris/anaconda3/envs/sailon/lib/python3.7/site-packages/ipykernel_launcher.py\", line 16, in <module>\\n    app.launch_new_instance()\\n', '  File \"/home/chris/anaconda3/envs/sailon/lib/python3.7/site-packages/traitlets/config/application.py\", line 845, in launch_instance\\n    app.start()\\n', '  File \"/home/chris/anaconda3/envs/sailon/lib/python3.7/site-packages/ipykernel/kernelapp.py\", line 612, in start\\n    self.io_loop.start()\\n', '  File \"/home/chris/anaconda3/envs/sailon/lib/python3.7/site-packages/tornado/platform/asyncio.py\", line 149, in start\\n    self.asyncio_loop.run_forever()\\n', '  File \"/home/chris/anaconda3/envs/sailon/lib/python3.7/asyncio/base_events.py\", line 541, in run_forever\\n    self._run_once()\\n', '  File \"/home/chris/anaconda3/envs/sailon/lib/python3.7/asyncio/base_events.py\", line 1786, in _run_once\\n    handle._run()\\n', '  File \"/home/chris/anaconda3/envs/sailon/lib/python3.7/asyncio/events.py\", line 88, in _run\\n    self._context.run(self._callback, *self._args)\\n', '  File \"/home/chris/anaconda3/envs/sailon/lib/python3.7/site-packages/tornado/ioloop.py\", line 690, in <lambda>\\n    lambda f: self._run_callback(functools.partial(callback, future))\\n', '  File \"/home/chris/anaconda3/envs/sailon/lib/python3.7/site-packages/tornado/ioloop.py\", line 743, in _run_callback\\n    ret = callback()\\n', '  File \"/home/chris/anaconda3/envs/sailon/lib/python3.7/site-packages/tornado/gen.py\", line 787, in inner\\n    self.run()\\n', '  File \"/home/chris/anaconda3/envs/sailon/lib/python3.7/site-packages/tornado/gen.py\", line 748, in run\\n    yielded = self.gen.send(value)\\n', '  File \"/home/chris/anaconda3/envs/sailon/lib/python3.7/site-packages/ipykernel/kernelbase.py\", line 365, in process_one\\n    yield gen.maybe_future(dispatch(*args))\\n', '  File \"/home/chris/anaconda3/envs/sailon/lib/python3.7/site-packages/tornado/gen.py\", line 209, in wrapper\\n    yielded = next(result)\\n', '  File \"/home/chris/anaconda3/envs/sailon/lib/python3.7/site-packages/ipykernel/kernelbase.py\", line 268, in dispatch_shell\\n    yield gen.maybe_future(handler(stream, idents, msg))\\n', '  File \"/home/chris/anaconda3/envs/sailon/lib/python3.7/site-packages/tornado/gen.py\", line 209, in wrapper\\n    yielded = next(result)\\n', '  File \"/home/chris/anaconda3/envs/sailon/lib/python3.7/site-packages/ipykernel/kernelbase.py\", line 545, in execute_request\\n    user_expressions, allow_stdin,\\n', '  File \"/home/chris/anaconda3/envs/sailon/lib/python3.7/site-packages/tornado/gen.py\", line 209, in wrapper\\n    yielded = next(result)\\n', '  File \"/home/chris/anaconda3/envs/sailon/lib/python3.7/site-packages/ipykernel/ipkernel.py\", line 306, in do_execute\\n    res = shell.run_cell(code, store_history=store_history, silent=silent)\\n', '  File \"/home/chris/anaconda3/envs/sailon/lib/python3.7/site-packages/ipykernel/zmqshell.py\", line 536, in run_cell\\n    return super(ZMQInteractiveShell, self).run_cell(*args, **kwargs)\\n', '  File \"/home/chris/anaconda3/envs/sailon/lib/python3.7/site-packages/IPython/core/interactiveshell.py\", line 2878, in run_cell\\n    raw_cell, store_history, silent, shell_futures)\\n', '  File \"/home/chris/anaconda3/envs/sailon/lib/python3.7/site-packages/IPython/core/interactiveshell.py\", line 2923, in _run_cell\\n    return runner(coro)\\n', '  File \"/home/chris/anaconda3/envs/sailon/lib/python3.7/site-packages/IPython/core/async_helpers.py\", line 68, in _pseudo_sync_runner\\n    coro.send(None)\\n', '  File \"/home/chris/anaconda3/envs/sailon/lib/python3.7/site-packages/IPython/core/interactiveshell.py\", line 3147, in run_cell_async\\n    interactivity=interactivity, compiler=compiler, result=result)\\n', '  File \"/home/chris/anaconda3/envs/sailon/lib/python3.7/site-packages/IPython/core/interactiveshell.py\", line 3338, in run_ast_nodes\\n    if (await self.run_code(code, result,  async_=asy)):\\n', '  File \"/home/chris/anaconda3/envs/sailon/lib/python3.7/site-packages/IPython/core/interactiveshell.py\", line 3418, in run_code\\n    exec(code_obj, self.user_global_ns, self.user_ns)\\n', '  File \"<ipython-input-12-4e3c24bec725>\", line 1, in <module>\\n    launch_protocol.run_protocol(OmegaConf.to_container(cfg[\\'problem\\']))\\n', '  File \"/home/chris/code/sailon_tinker_launcher/sailon_tinker_launcher/main.py\", line 184, in run_protocol\\n    run_protocol.run_protocol()\\n', '  File \"/home/chris/code/sail-on-client/sail_on_client/protocol/ond_protocol.py\", line 68, in run_protocol\\n    self.config[\"hints\"],\\n', '  File \"/home/chris/code/sail-on-client/sail_on_client/protocol/localinterface.py\", line 79, in session_request\\n    test_ids, protocol, domain, novelty_detector_version, hints\\n', '  File \"/home/chris/code/sail-on-api/sail_on/api/file_provider.py\", line 408, in new_session\\n    traceback.format_stack(),\\n')"
   ]
  },
  {
   "cell_type": "code",
   "execution_count": 9,
   "id": "affiliated-clerk",
   "metadata": {},
   "outputs": [],
   "source": [
    "from sailon_tinker_launcher.main import discoverable_plugins\n",
    "dp = discoverable_plugins()"
   ]
  },
  {
   "cell_type": "code",
   "execution_count": 10,
   "id": "baking-employer",
   "metadata": {},
   "outputs": [
    {
     "data": {
      "text/plain": [
       "{'CONDDA_12_With_Redlight': evm_based_novelty_detector.condda_12_with_rd_adapter.Condda_12_With_Rd_Adapter,\n",
       " 'CONDDA_12_Without_Redlight': evm_based_novelty_detector.condda_12_without_rd_adapter.Condda_12_Without_Rd_Adapter,\n",
       " 'CONDDA_5_14_A1': evm_based_novelty_detector.condda_5_14_a1_adapter.Condda_5_14_A1_Adapter,\n",
       " 'CONDDA_5_14_A2': evm_based_novelty_detector.condda_5_14_a2_adapter.Condda_5_14_A2_Adapter,\n",
       " 'EVMBasedNoveltyDetector': evm_based_novelty_detector.evm_based_novelty_adapter.EVMBasedNoveltyAdapter,\n",
       " 'OND_12_With_Redlight': evm_based_novelty_detector.ond_12_with_redlight_adapter.OND12WithRedlightAdapter,\n",
       " 'OND_12_Without_Redlight': evm_based_novelty_detector.ond_12_without_redlight_adapter.OND12WithoutRedlightAdapter,\n",
       " 'OND_5_14_A1': evm_based_novelty_detector.OND_5_14_A1_Adapter.OND_5_14_A1_Adapter,\n",
       " 'OND_5_14_A2': evm_based_novelty_detector.OND_5_14_A2_Adapter.OND_5_14_A2_Adapter,\n",
       " 'gae_kl_nd': graph_autoencoder.gae_kl_nd_adapter.GaeKlNdAdapter,\n",
       " 'gae_nd': graph_autoencoder.gae_nd_adapter.GaeNdAdapter,\n",
       " 'gae_nd_rd': graph_autoencoder.gae_nd_rd_adapter.GaeNdRdAdapter,\n",
       " 'HWRNoveltyDetector': hwr_novelty_detector.hwr_novelty_adapter.HWRNoveltyAdapter,\n",
       " 'MockDetector': sail_on_client.mock.MockDetector}"
      ]
     },
     "execution_count": 10,
     "metadata": {},
     "output_type": "execute_result"
    }
   ],
   "source": [
    "dp"
   ]
  },
  {
   "cell_type": "code",
   "execution_count": 7,
   "id": "stupid-contributor",
   "metadata": {},
   "outputs": [
    {
     "ename": "NameError",
     "evalue": "name 'evm_based_novelty_detector' is not defined",
     "output_type": "error",
     "traceback": [
      "\u001b[0;31m---------------------------------------------------------------------------\u001b[0m",
      "\u001b[0;31mNameError\u001b[0m                                 Traceback (most recent call last)",
      "\u001b[0;32m<ipython-input-7-bea4c53242f4>\u001b[0m in \u001b[0;36m<module>\u001b[0;34m\u001b[0m\n\u001b[0;32m----> 1\u001b[0;31m \u001b[0mevm_based_novelty_detector\u001b[0m\u001b[0;34m.\u001b[0m\u001b[0mcondda_12_with_rd_adapter\u001b[0m\u001b[0;34m.\u001b[0m\u001b[0mCondda_12_With_Rd_Adapter\u001b[0m\u001b[0;34m\u001b[0m\u001b[0;34m\u001b[0m\u001b[0m\n\u001b[0m",
      "\u001b[0;31mNameError\u001b[0m: name 'evm_based_novelty_detector' is not defined"
     ]
    }
   ],
   "source": []
  }
 ],
 "metadata": {
  "kernelspec": {
   "display_name": "sailon",
   "language": "python",
   "name": "sailon"
  },
  "language_info": {
   "codemirror_mode": {
    "name": "ipython",
    "version": 3
   },
   "file_extension": ".py",
   "mimetype": "text/x-python",
   "name": "python",
   "nbconvert_exporter": "python",
   "pygments_lexer": "ipython3",
   "version": "3.7.9"
  }
 },
 "nbformat": 4,
 "nbformat_minor": 5
}
